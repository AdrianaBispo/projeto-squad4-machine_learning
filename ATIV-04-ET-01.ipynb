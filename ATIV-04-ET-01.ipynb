{
 "cells": [
  {
   "cell_type": "markdown",
   "metadata": {},
   "source": [
    "# Atividade 04 - Entrega 01 - Bootcamp Machine Learning Atlântico Avanti\n",
    "## Equipe 04 - Flood Area Segmentation"
   ]
  },
  {
   "cell_type": "markdown",
   "metadata": {},
   "source": [
    "### Integridade dos Arquivos \n",
    "■ Verifique se todas as imagens listadas no arquivo de informações \n",
    "realmente existem no diretório de imagens e vice-versa. \n",
    "\n",
    "### Qualidade das Imagens\n",
    "■​ Identifique imagens corrompidas que não podem ser abertas ou\n",
    "processadas."
   ]
  },
  {
   "cell_type": "code",
   "execution_count": null,
   "metadata": {},
   "outputs": [
    {
     "name": "stdout",
     "output_type": "stream",
     "text": [
      "Verificando existência dos diretórios:\n",
      "Diretório de imagens existe: Sim\n",
      "Diretório de máscaras existe: Sim\n",
      "\n",
      "Relatório de Integridade:\n",
      "Arquivos de imagem: 290 verificados\n",
      "Arquivos de máscara: 290 verificados\n",
      "Total geral: 580 arquivos\n",
      "\n",
      "Não foram encontrados arquivos da pasta Image corrompidos!\n",
      "\n",
      "Hashes válidos gerados para 290 arquivos da pasta Image\n",
      "\n",
      "Não foram encontrados arquivos da pasta Mask corrompidos!\n",
      "\n",
      "Hashes válidos gerados para 290 arquivos da pasta Mask\n",
      "\n"
     ]
    }
   ],
   "source": [
    "import os\n",
    "import hashlib\n",
    "from PIL import Image\n",
    "\n",
    "def verify_images(directory, generate_hashes=False):\n",
    "    corrupted_files = []\n",
    "    valid_hashes = {}\n",
    "    \n",
    "    # Percorre os arquivos no diretório recursivamente\n",
    "    for root, dirs, files in os.walk(directory):\n",
    "        for file in files:\n",
    "            file_path = os.path.join(root, file)\n",
    "            \n",
    "            # Tratamento de exceções para leitura dos arquivos\n",
    "            try:\n",
    "                with open(file_path, 'rb') as f:\n",
    "                    content = f.read()\n",
    "                    if generate_hashes:\n",
    "                        file_hash = hashlib.sha256(content).hexdigest() # Gera arquivo hash para cada imagem lida\n",
    "                        valid_hashes[file] = file_hash # Armazena no dicionário\n",
    "            except IOError:\n",
    "                corrupted_files.append(file_path) # Armazena o caminho do arquivo se ele estiver corrompido\n",
    "                continue\n",
    "            \n",
    "            # Tratamento de exceções para integridade do arquivo\n",
    "            try:\n",
    "                with Image.open(file_path) as img:\n",
    "                    img.verify() # Verificação básica da integridade do arquivo\n",
    "                with Image.open(file_path) as img:\n",
    "                    img.load() # Carrega o arquivo na memória\n",
    "                    img.transpose(Image.FLIP_LEFT_RIGHT) # Realiza testes adicionais de integridade\n",
    "            except (IOError, OSError, Image.DecompressionBombError) as erro:\n",
    "                corrupted_files.append(file_path) # Caso o arquivo esteja corrompido, adiciona o caminho dele em uma lista\n",
    "                print(f\"Arquivo corrompido: {file_path} - Erro: {str(erro)}\") # Printa o código de erro para o arquivo corrompido\n",
    "        \n",
    "        #Retorno da função    \n",
    "        return {\n",
    "            'total_files': len(files),\n",
    "            'corrupted_files': corrupted_files,\n",
    "            'valid_hashes': valid_hashes if generate_hashes else None\n",
    "        }\n",
    "\n",
    "if __name__ == \"__main__\":\n",
    "    diretorio_image = \"/home/gabriel/Desktop/Gabriel/Codes/avanti-ML-course/Image\" # Alterar path dos arquivos Image\n",
    "    diretorio_mask = \"/home/gabriel/Desktop/Gabriel/Codes/avanti-ML-course/Mask\" # Alterar path  dos arquivos Mask\n",
    " \n",
    "    print(f\"Verificando existência dos diretórios:\")\n",
    "    print(f\"Diretório de imagens existe: {\"Sim\" if os.path.exists(diretorio_image) else \"Não\"}\")\n",
    "    print(f\"Diretório de máscaras existe: {\"Sim\" if os.path.exists(diretorio_mask) else \"Não\"}\")\n",
    "    \n",
    "    report_image = verify_images(diretorio_image, generate_hashes=True)\n",
    "    report_mask = verify_images(diretorio_mask, generate_hashes=True)\n",
    "    \n",
    "    print()\n",
    "    print(\"Relatório de Integridade:\")\n",
    "    print(f\"Arquivos de imagem: {report_image['total_files']} verificados\")\n",
    "    print(f\"Arquivos de máscara: {report_mask['total_files']} verificados\")\n",
    "    print(f\"Total geral: {report_image['total_files'] + report_mask['total_files']} arquivos\\n\")\n",
    "    \n",
    " # Integridade pasta Image   \n",
    "    if report_image['corrupted_files']:\n",
    "        print(\"Lista de arquivos corrompidos:\")\n",
    "        for corrupted in report_image['corrupted_files']:\n",
    "            print(f\" - {corrupted}\")\n",
    "        print()\n",
    "    else:\n",
    "        print(\"Não foram encontrados arquivos da pasta Image corrompidos!\\n\")\n",
    "   \n",
    "    if report_image['valid_hashes']:\n",
    "        print(f\"Hashes válidos gerados para {len(report_image['valid_hashes'])} arquivos da pasta Image\\n\")\n",
    "            \n",
    "# Integridade pasta Mask\n",
    "    if report_mask['corrupted_files']:\n",
    "        print(\"Lista de arquivos corrompidos:\")\n",
    "        for corrupted in report_mask['corrupted_files']:\n",
    "            print(f\" - {corrupted}\")\n",
    "        print()\n",
    "    else:\n",
    "        print(\"Não foram encontrados arquivos da pasta Mask corrompidos!\\n\")\n",
    "    \n",
    "    if report_mask['valid_hashes']:\n",
    "        print(f\"Hashes válidos gerados para {len(report_mask['valid_hashes'])} arquivos da pasta Mask\\n\")"
   ]
  },
  {
   "cell_type": "markdown",
   "metadata": {},
   "source": [
    "■ Verifique se todas as imagens estão no mesmo formato, ex: JPEG, \n",
    "PNG, etc. "
   ]
  },
  {
   "cell_type": "code",
   "execution_count": 2,
   "metadata": {},
   "outputs": [],
   "source": [
    "# A ser implemetado"
   ]
  }
 ],
 "metadata": {
  "kernelspec": {
   "display_name": "base",
   "language": "python",
   "name": "python3"
  },
  "language_info": {
   "codemirror_mode": {
    "name": "ipython",
    "version": 3
   },
   "file_extension": ".py",
   "mimetype": "text/x-python",
   "name": "python",
   "nbconvert_exporter": "python",
   "pygments_lexer": "ipython3",
   "version": "3.12.7"
  }
 },
 "nbformat": 4,
 "nbformat_minor": 2
}
